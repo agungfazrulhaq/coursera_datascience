get_ipython().getoutput("pip install sqlalchemy==1.3.9")



get_ipython().run_line_magic("load_ext", " sql")


import csv, sqlite3

con = sqlite3.connect("my_data1.db")
cur = con.cursor()


get_ipython().getoutput("pip install -q pandas==1.1.5")


get_ipython().run_line_magic("sql", " sqlite:///my_data1.db")


import pandas as pd
df = pd.read_csv("https://cf-courses-data.s3.us.cloud-object-storage.appdomain.cloud/IBM-DS0321EN-SkillsNetwork/labs/module_2/data/Spacex.csv")
df.to_sql("SPACEXTBL", con, if_exists='replace', index=False,method="multi")


def fetchall_to_sql(cur):
    return pd.DataFrame(data=cur.fetchall(), columns=cur.description[0])


cur.execute("SELECT DISTINCT Launch_Site FROM SPACEXTBL")
cur.fetchall()


cur.execute("SELECT * FROM SPACEXTBL WHERE Launch_Site LIKE 'CCA%'")
cur.fetchall()


cur.execute('SELECT SUM(PAYLOAD_MASS__KG_) FROM SPACEXTBL WHERE Customer="NASA (CRS)"')
cur.fetchall()


cur.execute('SELECT AVG(PAYLOAD_MASS__KG_) FROM SPACEXTBL WHERE Booster_Version="F9 v1.1"')
cur.fetchall()


cur.execute('SELECT min(Date) FROM SPACEXTBL WHERE "Landing _Outcome"="Success (ground pad)"')
cur.fetchall()


cur.execute('SELECT DISTINCT Booster_Version FROM SPACEXTBL WHERE "Landing _Outcome"="Success (drone ship)" AND PAYLOAD_MASS__KG_ BETWEEN 4000 AND 6000')
cur.fetchall()


cur.execute('SELECT Mission_Outcome, count(*) FROM SPACEXTBL GROUP BY Mission_Outcome')
cur.fetchall()


cur.execute('SELECT Booster_Version FROM SPACEXTBL WHERE PAYLOAD_MASS__KG_ IN (SELECT max(PAYLOAD_MASS__KG_) FROM SPACEXTBL)')
cur.fetchall()


cur.execute('SELECT substr(Date, 4, 2), "Landing _Outcome", Booster_Version, "Launch_Site" FROM SPACEXTBL WHERE substr(Date, 7,4)="2015"')
cur.fetchall()


cur.execute('SELECT "Landing _Outcome", count(*) as count_success FROM SPACEXTBL WHERE "Landing _Outcome" LIKE "Success%" AND Date BETWEEN "04-06-2010" AND "20-03-2017" GROUP BY "Landing _Outcome" ORDER BY count_success DESC')
cur.fetchall()


cur.execute('SELECT DISTINCT Launch_Site FROM SPACEXTBL')
cur.fetchall()
