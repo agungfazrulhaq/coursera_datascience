get_ipython().getoutput("pip3 install folium")
get_ipython().getoutput("pip3 install wget")


import folium
import wget
import pandas as pd


# Import folium MarkerCluster plugin
from folium.plugins import MarkerCluster
# Import folium MousePosition plugin
from folium.plugins import MousePosition
# Import folium DivIcon plugin
from folium.features import DivIcon


# Download and read the `spacex_launch_geo.csv`
spacex_csv_file = wget.download('https://cf-courses-data.s3.us.cloud-object-storage.appdomain.cloud/IBM-DS0321EN-SkillsNetwork/datasets/spacex_launch_geo.csv')
spacex_df=pd.read_csv(spacex_csv_file)


# Select relevant sub-columns: `Launch Site`, `Lat(Latitude)`, `Long(Longitude)`, `class`
spacex_df = spacex_df[['Launch Site', 'Lat', 'Long', 'class']]
launch_sites_df = spacex_df.groupby(['Launch Site'], as_index=False).first()
launch_sites_df = launch_sites_df[['Launch Site', 'Lat', 'Long']]
launch_sites_df


# Start location is NASA Johnson Space Center
nasa_coordinate = [29.559684888503615, -95.0830971930759]
site_map = folium.Map(location=nasa_coordinate, zoom_start=10)


# Create a blue circle at NASA Johnson Space Center's coordinate with a popup label showing its name
circle = folium.Circle(nasa_coordinate, radius=1000, color='#d35400', fill=True).add_child(folium.Popup('NASA Johnson Space Center'))
# Create a blue circle at NASA Johnson Space Center's coordinate with a icon showing its name
marker = folium.map.Marker(
    nasa_coordinate,
    # Create an icon as a text label
    icon=DivIcon(
        icon_size=(20,20),
        icon_anchor=(0,0),
        html='<div style="font-size: 12; color:#d35400;"><b>%s</b></div>' % 'NASA JSC',
        )
    )
site_map.add_child(circle)
site_map.add_child(marker)


# Initial the map
site_map = folium.Map(location=nasa_coordinate, zoom_start=5)
# For each launch site, add a Circle object based on its coordinate (Lat, Long) values. In addition, add Launch site name as a popup label
for ind,val in launch_sites_df.iterrows():
    coordinate = [val['Lat'], val['Long']]
    circle = folium.Circle(coordinate, radius=1000, color="#32a87b", fill=True).add_child(folium.Popup(val["Launch Site"]))
    marker = folium.map.Marker(coordinate, icon=DivIcon(icon_size=(20,20),icon_anchor=(0,0), html='<div style="font-size: 12; color:#d35400;"><b>%s</b></div>' % val['Launch Site'], ))
    site_map.add_child(circle)
    site_map.add_child(marker)
site_map


spacex_df.tail(10)


marker_cluster = MarkerCluster()




# Apply a function to check the value of `class` column
# If class=1, marker_color value will be green
# If class=0, marker_color value will be red



# Function to assign color to launch outcome
def assign_marker_color(launch_outcome):
    if launch_outcome == 1:
        return 'green'
    else:
        return 'red'
    
spacex_df['marker_color'] = spacex_df['class'].apply(assign_marker_color)
spacex_df.tail(10)


# Add marker_cluster to current site_map
site_map.add_child(marker_cluster)

# for each row in spacex_df data frame
# create a Marker object with its coordinate
# and customize the Marker's icon property to indicate if this launch was successed or failed, 
# e.g., icon=folium.Icon(color='white', icon_color=row['marker_color']
for index, record in spacex_df.iterrows():
    # TODO: Create and add a Marker cluster to the site map
    icon = folium.Icon(color='white', icon_color=record['marker_color'])
    coordinate = [record['Lat'], record['Long']]
    marker = folium.Marker(coordinate, icon=folium.Icon(color='white', icon_color=record['marker_color']))
    marker_cluster.add_child(marker)
    # marker_cluster.add_child(icon)

site_map


# Add Mouse Position to get the coordinate (Lat, Long) for a mouse over on the map
formatter = "function(num) {return L.Util.formatNum(num, 5);};"
mouse_position = MousePosition(
    position='topright',
    separator=' Long: ',
    empty_string='NaN',
    lng_first=False,
    num_digits=20,
    prefix='Lat:',
    lat_formatter=formatter,
    lng_formatter=formatter,
)

site_map.add_child(mouse_position)
site_map


from math import sin, cos, sqrt, atan2, radians

def calculate_distance(lat1, lon1, lat2, lon2):
    # approximate radius of earth in km
    R = 6373.0

    lat1 = radians(lat1)
    lon1 = radians(lon1)
    lat2 = radians(lat2)
    lon2 = radians(lon2)

    dlon = lon2 - lon1
    dlat = lat2 - lat1

    a = sin(dlat / 2)**2 + cos(lat1) * cos(lat2) * sin(dlon / 2)**2
    c = 2 * atan2(sqrt(a), sqrt(1 - a))

    distance = R * c
    return distance


# find coordinate of the closet coastline
# e.g.,: Lat: 28.56367  Lon: -80.57163
coastline = [28.58, -80.65]
launch_site_coor = [28.573255, -80.646895]
distance_coastline = calculate_distance(launch_site_coor[0], launch_site_coor[1], coastline[0], coastline[1])
distance_coastline


# Create and add a folium.Marker on your selected closest coastline point on the map
# Display the distance between coastline point and launch site using the icon property 
# for example
distance_marker = folium.Marker(
   launch_site_coor,
   icon=DivIcon(
       icon_size=(20,20),
       icon_anchor=(0,0),
       html='<div style="font-size: 12; color:#d35400;"><b>%s</b></div>' % "{:10.2f} KM".format(distance_coastline),
       )
   )


# Create a `folium.PolyLine` object using the coastline coordinates and launch site coordinate
coordinates = [launch_site_coor, coastline]
lines=folium.PolyLine(locations=coordinates, weight=1)
site_map.add_child(lines)


# Create a marker with distance to a closest city, railway, highway, etc.
# Draw a line between the marker to the launch site
city = [28.61165, -80.80756]
railway = [28.57646 ,-80.80502]
highway = [28.5552 , -80.65677]
coastside = [28.57152 ,-80.60725]

distance_city = calculate_distance(launch_site_coor[0], launch_site_coor[1], city[0], city[1])
distance_railway = calculate_distance(launch_site_coor[0], launch_site_coor[1], railway[0], railway[1])
distance_highway = calculate_distance(launch_site_coor[0], launch_site_coor[1], highway[0], highway[1])
distance_coastside = calculate_distance(launch_site_coor[0], launch_site_coor[1], coastside[0], coastside[1])


lines_city=folium.PolyLine(locations=[launch_site_coor, city], weight=1)
site_map.add_child(lines_city)
lines_railway=folium.PolyLine(locations=[launch_site_coor, railway], weight=1)
site_map.add_child(lines_railway)
lines_highway=folium.PolyLine(locations=[launch_site_coor, highway], weight=1)
site_map.add_child(lines_highway)
city_marker = folium.Marker(
   city,
   icon=DivIcon(
       icon_size=(20,20),
       icon_anchor=(0,0),
       html='<div style="font-size: 12; color:#d35400;"><b>%s</b></div>' % "{:10.2f} KM".format(distance_city),
       )
   )
railway_marker = folium.Marker(
   railway,
   icon=DivIcon(
       icon_size=(20,20),
       icon_anchor=(0,0),
       html='<div style="font-size: 12; color:#d35400;"><b>%s</b></div>' % "{:10.2f} KM".format(distance_railway),
       )
   )
highway_marker = folium.Marker(
   highway,
   icon=DivIcon(
       icon_size=(20,20),
       icon_anchor=(0,0),
       html='<div style="font-size: 12; color:#d35400;"><b>%s</b></div>' % "{:10.2f} KM".format(distance_highway),
       )
   )
coastside_marker = folium.Marker(
   coastside,
   icon=DivIcon(
       icon_size=(20,20),
       icon_anchor=(0,0),
       html='<div style="font-size: 12; color:#d35400;"><b>%s</b></div>' % "{:10.2f} KM".format(distance_coastside),
       )
   )
site_map.add_child(city_marker)
site_map.add_child(highway_marker)
site_map.add_child(railway_marker)
site_map.add_child(coastside_marker)



