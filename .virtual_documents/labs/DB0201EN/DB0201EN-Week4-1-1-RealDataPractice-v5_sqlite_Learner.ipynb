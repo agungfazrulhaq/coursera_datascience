import csv, sqlite3

con = sqlite3.connect("RealWorldData.db")
cur = con.cursor()



get_ipython().getoutput("pip install -q pandas==1.1.5")


get_ipython().run_line_magic("load_ext", " sql")


get_ipython().run_line_magic("sql", " sqlite:///RealWorldData.db")






# type in your query to retrieve list of all tables in the database



# type in your query to retrieve the number of columns in the SCHOOLS table



# type in your query to retrieve all column names in the SCHOOLS table along with their datatypes and length







































