get_ipython().run_line_magic("load_ext", " sql")


import csv, sqlite3

con = sqlite3.connect("RealWorldData.db")
cur = con.cursor()


get_ipython().getoutput("pip install -q pandas==1.1.5")


get_ipython().run_line_magic("sql", " sqlite:///RealWorldData.db")


import pandas as pd
df = pd.read_csv('ChicagoCensusData.csv')
df.to_sql('CENSUS_DATA', con, if_exists='replace', index=False,method="multi")


df = pd.read_csv('ChicagoCrimeData.csv')
df.to_sql('CHICAGO_CRIME_DATA', con, if_exists='replace', index=False,method="multi")



df = pd.read_csv('ChicagoPublicSchools.csv')
df.to_sql('CHICAGO_PUBLIC_SCHOOLS', con, if_exists='replace', index=False,method="multi")



get_ipython().run_cell_magic("sql", "", """
SELECT * FROM CENSUS_DATA""")


get_ipython().run_cell_magic("sql", "", """SELECT COUNT(*) FROM CHICAGO_CRIME_DATA""")


get_ipython().run_cell_magic("sql", "", """SELECT COMMUNITY_AREA_NUMBER, COMMUNITY_AREA_NAME FROM CENSUS_DATA WHERE PER_CAPITA_INCOME < 11000""")


get_ipython().run_cell_magic("sql", "", """SELECT CASE_NUMBER FROM CHICAGO_CRIME_DATA WHERE DESCRIPTION LIKE "%MINOR%"""")


get_ipython().run_cell_magic("sql", "", """SELECT * FROM CHICAGO_CRIME_DATA WHERE DESCRIPTION LIKE "%CHILD%" AND PRIMARY_TYPE = "KIDNAPPING"""")


get_ipython().run_cell_magic("sql", "", """SELECT DISTINCT(PRIMARY_TYPE) FROM CHICAGO_CRIME_DATA WHERE LOCATION_DESCRIPTION LIKE "%SCHOOL%"""")


get_ipython().run_cell_magic("sql", "", """SELECT AVG(SAFETY_SCORE) FROM CHICAGO_PUBLIC_SCHOOLS""")


get_ipython().run_cell_magic("sql", "", """SELECT COMMUNITY_AREA_NUMBER, COMMUNITY_AREA_NAME FROM CENSUS_DATA 
        ORDER BY PERCENT_HOUSEHOLDS_BELOW_POVERTY DESC
        LIMIT 5;""")


get_ipython().run_cell_magic("sql", "", """SELECT A.COMMUNITY_AREA_NUMBER, B.COMMUNITY_AREA_NAME, COUNT(*) as count_ 
    FROM CHICAGO_CRIME_DATA A
    JOIN CENSUS_DATA B
    ON A.COMMUNITY_AREA_NUMBER = B.COMMUNITY_AREA_NUMBER
        GROUP BY A.COMMUNITY_AREA_NUMBER 
        ORDER BY count_ DESC
        LIMIT 1;""")


get_ipython().run_cell_magic("sql", "", """
SELECT COMMUNITY_AREA_NAME 
    FROM CENSUS_DATA 
        WHERE HARDSHIP_INDEX = (
            SELECT MAX(HARDSHIP_INDEX)
                FROM CENSUS_DATA
            )""")


get_ipython().run_cell_magic("sql", "", """SELECT COMMUNITY_AREA_NAME
    FROM CENSUS_DATA
    WHERE COMMUNITY_AREA_NUMBER = (
        SELECT COMMUNITY_AREA_NUMBER
            FROM (
                SELECT COMMUNITY_AREA_NUMBER, COUNT(*) as count_
                FROM CHICAGO_CRIME_DATA
                GROUP BY COMMUNITY_AREA_NUMBER
                ORDER BY count_ DESC LIMIT 1
            )
        )""")
