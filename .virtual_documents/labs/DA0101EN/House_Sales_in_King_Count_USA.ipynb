#After executing the below command restart the kernel and run all cells.
get_ipython().getoutput("pip3 install scikit-learn --upgrade --user")


import pandas as pd
import matplotlib.pyplot as plt
import numpy as np
import seaborn as sns
from sklearn.pipeline import Pipeline
from sklearn.preprocessing import StandardScaler,PolynomialFeatures
from sklearn.linear_model import LinearRegression
get_ipython().run_line_magic("matplotlib", " inline")


file_name='https://cf-courses-data.s3.us.cloud-object-storage.appdomain.cloud/IBMDeveloperSkillsNetwork-DA0101EN-SkillsNetwork/labs/FinalModule_Coursera/data/kc_house_data_NaN.csv'
df=pd.read_csv(file_name)


df.head()


df.dtypes


df.describe()


df.drop(columns=["id", "Unnamed: 0"], inplace=True)
df.describe()


print("number of NaN values for the column bedrooms :", df['bedrooms'].isnull().sum())
print("number of NaN values for the column bathrooms :", df['bathrooms'].isnull().sum())



mean=df['bedrooms'].mean()
df['bedrooms'].replace(np.nan,mean, inplace=True)


mean=df['bathrooms'].mean()
df['bathrooms'].replace(np.nan,mean, inplace=True)


print("number of NaN values for the column bedrooms :", df['bedrooms'].isnull().sum())
print("number of NaN values for the column bathrooms :", df['bathrooms'].isnull().sum())


df.value_counts("floors").to_frame()


sns.boxplot(x="waterfront", y="price", data=df)


sns.regplot(x="sqft_above", y="price", data=df)


df.corr()['price'].sort_values()


X = df[['long']]
Y = df['price']
lm = LinearRegression()
lm.fit(X,Y)
lm.score(X, Y)


X = df[['sqft_living']]
Y = df['price']
lm  = LinearRegression()
lm.fit(X, Y)
lm.score(X, Y)


features =["floors", "waterfront","lat" ,"bedrooms" ,"sqft_basement" ,"view" ,"bathrooms","sqft_living15","sqft_above","grade","sqft_living"]     


X = df[features]
Y = df['price']
lm = LinearRegression()
lm.fit(X,Y)
lm.score(X, Y)


Input=[('scale',StandardScaler()),('polynomial', PolynomialFeatures(include_bias=False)),('model',LinearRegression())]


pipeline = Pipeline(Input)
pipeline.fit(X,Y)
pipeline.score(X,Y)


from sklearn.model_selection import cross_val_score
from sklearn.model_selection import train_test_split
print("done")


features =["floors", "waterfront","lat" ,"bedrooms" ,"sqft_basement" ,"view" ,"bathrooms","sqft_living15","sqft_above","grade","sqft_living"]    
X = df[features]
Y = df['price']

x_train, x_test, y_train, y_test = train_test_split(X, Y, test_size=0.15, random_state=1)


print("number of test samples:", x_test.shape[0])
print("number of training samples:",x_train.shape[0])


from sklearn.linear_model import Ridge


rr = Ridge(alpha=0.1)
rr.fit(x_train, y_train)
rr.score(x_test, y_test)


poly = PolynomialFeatures(degree=2)
x_train = poly.fit_transform(x_train)
rr = Ridge(alpha=0.1)
rr.fit(x_train, y_train)

x_test = poly.fit_transform(x_test)
rr.score(x_test, y_test)
