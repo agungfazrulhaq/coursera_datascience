{
 "cells": [
  {
   "cell_type": "markdown",
   "metadata": {},
   "source": [
    "<p style=\"text-align:center\">\n",
    "    <a href=\"https://skills.network/?utm_medium=Exinfluencer&utm_source=Exinfluencer&utm_content=000026UJ&utm_term=10006555&utm_id=NA-SkillsNetwork-Channel-SkillsNetworkCoursesIBMDS0321ENSkillsNetwork26802033-2022-01-01\" target=\"_blank\">\n",
    "    <img src=\"https://cf-courses-data.s3.us.cloud-object-storage.appdomain.cloud/assets/logos/SN_web_lightmode.png\" width=\"200\" alt=\"Skills Network Logo\"  />\n",
    "    </a>\n",
    "</p>\n",
    "\n",
    "<h1 align=center><font size = 5>Assignment: SQL Notebook for Peer Assignment</font></h1>\n",
    "\n",
    "Estimated time needed: **60** minutes.\n",
    "\n",
    "## Introduction\n",
    "\n",
    "Using this Python notebook you will:\n",
    "\n",
    "1.  Understand the Spacex DataSet\n",
    "2.  Load the dataset  into the corresponding table in a Db2 database\n",
    "3.  Execute SQL queries to answer assignment questions\n"
   ]
  },
  {
   "cell_type": "markdown",
   "metadata": {},
   "source": [
    "## Overview of the DataSet\n",
    "\n",
    "SpaceX has gained worldwide attention for a series of historic milestones.\n",
    "\n",
    "It is the only private company ever to return a spacecraft from low-earth orbit, which it first accomplished in December 2010.\n",
    "SpaceX advertises Falcon 9 rocket launches on its website with a cost of 62 million dollars wheras other providers cost upward of 165 million dollars each, much of the savings is because Space X can reuse the first stage.\n",
    "\n",
    "Therefore if we can determine if the first stage will land, we can determine the cost of a launch.\n",
    "\n",
    "This information can be used if an alternate company wants to bid against SpaceX for a rocket launch.\n",
    "\n",
    "This dataset includes a record for each payload carried during a SpaceX mission into outer space.\n"
   ]
  },
  {
   "cell_type": "markdown",
   "metadata": {},
   "source": [
    "### Download the datasets\n",
    "\n",
    "This assignment requires you to load the spacex dataset.\n",
    "\n",
    "In many cases the dataset to be analyzed is available as a .CSV (comma separated values) file, perhaps on the internet. Click on the link below to download and save the dataset (.CSV file):\n",
    "\n",
    "<a href=\"https://cf-courses-data.s3.us.cloud-object-storage.appdomain.cloud/IBM-DS0321EN-SkillsNetwork/labs/module_2/data/Spacex.csv?utm_medium=Exinfluencer&utm_source=Exinfluencer&utm_content=000026UJ&utm_term=10006555&utm_id=NA-SkillsNetwork-Channel-SkillsNetworkCoursesIBMDS0321ENSkillsNetwork26802033-2022-01-01\" target=\"_blank\">Spacex DataSet</a>\n"
   ]
  },
  {
   "cell_type": "markdown",
   "metadata": {},
   "source": [
    "### Store the dataset in database table\n",
    "\n",
    "**it is highly recommended to manually load the table using the database console LOAD tool in DB2**.\n",
    "\n",
    "<img src = \"https://cf-courses-data.s3.us.cloud-object-storage.appdomain.cloud/IBM-DS0321EN-SkillsNetwork/labs/module_2/images/spacexload.png\">\n",
    "\n",
    "Now open the Db2 console, open the LOAD tool, Select / Drag the .CSV file for the  dataset, Next create a New Table, and then follow the steps on-screen instructions to load the data. Name the new table as follows:\n",
    "\n",
    "**SPACEXDATASET**\n",
    "\n",
    "**Follow these steps while using old DB2 UI which is having Open Console Screen**\n",
    "\n",
    "**Note:While loading Spacex dataset, ensure that detect datatypes is disabled. Later click on the pencil icon(edit option).**\n",
    "\n",
    "1.  Change the Date Format by manually typing DD-MM-YYYY and timestamp format as DD-MM-YYYY HH\\:MM:SS\n",
    "\n",
    "2.  Change the PAYLOAD_MASS\\_\\_KG\\_  datatype  to INTEGER.\n",
    "\n",
    "<img src = \"https://cf-courses-data.s3.us.cloud-object-storage.appdomain.cloud/IBM-DS0321EN-SkillsNetwork/labs/module_2/images/spacexload2.png\">\n"
   ]
  },
  {
   "cell_type": "markdown",
   "metadata": {},
   "source": [
    "**Changes to be considered when having DB2 instance with the new UI having Go to UI screen**\n",
    "\n",
    "*   Refer to this insruction in this <a href=\"https://cf-courses-data.s3.us.cloud-object-storage.appdomain.cloud/IBMDeveloperSkillsNetwork-DB0201EN-SkillsNetwork/labs/Labs_Coursera_V5/labs/Lab%20-%20Sign%20up%20for%20IBM%20Cloud%20-%20Create%20Db2%20service%20instance%20-%20Get%20started%20with%20the%20Db2%20console/instructional-labs.md.html?utm_medium=Exinfluencer&utm_source=Exinfluencer&utm_content=000026UJ&utm_term=10006555&utm_id=NA-SkillsNetwork-Channel-SkillsNetworkCoursesIBMDS0321ENSkillsNetwork26802033-2022-01-01\">link</a> for viewing  the new  Go to UI screen.\n",
    "\n",
    "*   Later click on **Data link(below SQL)**  in the Go to UI screen  and click on **Load Data** tab.\n",
    "\n",
    "*   Later browse for the downloaded spacex file.\n",
    "\n",
    "<img src=\"https://cf-courses-data.s3.us.cloud-object-storage.appdomain.cloud/IBM-DS0321EN-SkillsNetwork/labs/module_2/images/browsefile.png\" width=\"800\"/>\n",
    "\n",
    "*   Once done select the schema andload the file.\n",
    "\n",
    " <img src=\"https://cf-courses-data.s3.us.cloud-object-storage.appdomain.cloud/IBM-DS0321EN-SkillsNetwork/labs/module_2/images/spacexload3.png\" width=\"800\"/>\n"
   ]
  },
  {
   "cell_type": "code",
   "execution_count": 2,
   "metadata": {},
   "outputs": [
    {
     "name": "stdout",
     "output_type": "stream",
     "text": [
      "Collecting sqlalchemy==1.3.9\n",
      "  Downloading SQLAlchemy-1.3.9.tar.gz (6.0 MB)\n",
      "\u001b[2K     \u001b[90m━━━━━━━━━━━━━━━━━━━━━━━━━━━━━━━━━━━━━━━━\u001b[0m \u001b[32m6.0/6.0 MB\u001b[0m \u001b[31m70.3 MB/s\u001b[0m eta \u001b[36m0:00:00\u001b[0m:00:01\u001b[0m00:01\u001b[0m\n",
      "\u001b[?25h  Preparing metadata (setup.py) ... \u001b[?25ldone\n",
      "\u001b[?25hBuilding wheels for collected packages: sqlalchemy\n",
      "  Building wheel for sqlalchemy (setup.py) ... \u001b[?25ldone\n",
      "\u001b[?25h  Created wheel for sqlalchemy: filename=SQLAlchemy-1.3.9-cp37-cp37m-linux_x86_64.whl size=1159121 sha256=3b121dae024e7903185c9ea528809d74a38bd0b6e370a1c36a5aed085c7744e1\n",
      "  Stored in directory: /home/jupyterlab/.cache/pip/wheels/03/71/13/010faf12246f72dc76b4150e6e599d13a85b4435e06fb9e51f\n",
      "Successfully built sqlalchemy\n",
      "Installing collected packages: sqlalchemy\n",
      "  Attempting uninstall: sqlalchemy\n",
      "    Found existing installation: SQLAlchemy 1.3.24\n",
      "    Uninstalling SQLAlchemy-1.3.24:\n",
      "      Successfully uninstalled SQLAlchemy-1.3.24\n",
      "Successfully installed sqlalchemy-1.3.9\n"
     ]
    }
   ],
   "source": [
    "!pip install sqlalchemy==1.3.9\n"
   ]
  },
  {
   "cell_type": "markdown",
   "metadata": {},
   "source": [
    "### Connect to the database\n",
    "\n",
    "Let us first load the SQL extension and establish a connection with the database\n"
   ]
  },
  {
   "cell_type": "code",
   "execution_count": 3,
   "metadata": {},
   "outputs": [],
   "source": [
    "%load_ext sql"
   ]
  },
  {
   "cell_type": "code",
   "execution_count": 4,
   "metadata": {},
   "outputs": [],
   "source": [
    "import csv, sqlite3\n",
    "\n",
    "con = sqlite3.connect(\"my_data1.db\")\n",
    "cur = con.cursor()"
   ]
  },
  {
   "cell_type": "code",
   "execution_count": 5,
   "metadata": {},
   "outputs": [],
   "source": [
    "!pip install -q pandas==1.1.5"
   ]
  },
  {
   "cell_type": "code",
   "execution_count": 6,
   "metadata": {},
   "outputs": [
    {
     "data": {
      "text/plain": [
       "'Connected: @my_data1.db'"
      ]
     },
     "execution_count": 6,
     "metadata": {},
     "output_type": "execute_result"
    }
   ],
   "source": [
    "%sql sqlite:///my_data1.db"
   ]
  },
  {
   "cell_type": "code",
   "execution_count": 7,
   "metadata": {},
   "outputs": [
    {
     "name": "stderr",
     "output_type": "stream",
     "text": [
      "/home/jupyterlab/conda/envs/python/lib/python3.7/site-packages/pandas/core/generic.py:2882: UserWarning: The spaces in these column names will not be changed. In pandas versions < 0.14, spaces were converted to underscores.\n",
      "  both result in 0.1234 being formatted as 0.12.\n"
     ]
    }
   ],
   "source": [
    "import pandas as pd\n",
    "df = pd.read_csv(\"https://cf-courses-data.s3.us.cloud-object-storage.appdomain.cloud/IBM-DS0321EN-SkillsNetwork/labs/module_2/data/Spacex.csv\")\n",
    "df.to_sql(\"SPACEXTBL\", con, if_exists='replace', index=False,method=\"multi\")"
   ]
  },
  {
   "cell_type": "markdown",
   "metadata": {},
   "source": [
    "## Tasks\n",
    "\n",
    "Now write and execute SQL queries to solve the assignment tasks.\n",
    "\n",
    "**Note: If the column names are in mixed case enclose it in double quotes\n",
    "For Example \"Landing_Outcome\"**\n",
    "\n",
    "### Task 1\n",
    "\n",
    "##### Display the names of the unique launch sites  in the space mission\n"
   ]
  },
  {
   "cell_type": "code",
   "execution_count": 8,
   "metadata": {},
   "outputs": [
    {
     "data": {
      "text/plain": [
       "[('CCAFS LC-40',), ('VAFB SLC-4E',), ('KSC LC-39A',), ('CCAFS SLC-40',)]"
      ]
     },
     "execution_count": 8,
     "metadata": {},
     "output_type": "execute_result"
    }
   ],
   "source": [
    "cur.execute(\"SELECT DISTINCT Launch_Site FROM SPACEXTBL\")\n",
    "cur.fetchall()"
   ]
  },
  {
   "cell_type": "markdown",
   "metadata": {},
   "source": [
    "### Task 2\n",
    "\n",
    "##### Display 5 records where launch sites begin with the string 'CCA'\n"
   ]
  },
  {
   "cell_type": "code",
   "execution_count": 9,
   "metadata": {
    "tags": []
   },
   "outputs": [
    {
     "data": {
      "text/plain": [
       "[('04-06-2010',\n",
       "  '18:45:00',\n",
       "  'F9 v1.0  B0003',\n",
       "  'CCAFS LC-40',\n",
       "  'Dragon Spacecraft Qualification Unit',\n",
       "  0,\n",
       "  'LEO',\n",
       "  'SpaceX',\n",
       "  'Success',\n",
       "  'Failure (parachute)'),\n",
       " ('08-12-2010',\n",
       "  '15:43:00',\n",
       "  'F9 v1.0  B0004',\n",
       "  'CCAFS LC-40',\n",
       "  'Dragon demo flight C1, two CubeSats, barrel of Brouere cheese',\n",
       "  0,\n",
       "  'LEO (ISS)',\n",
       "  'NASA (COTS) NRO',\n",
       "  'Success',\n",
       "  'Failure (parachute)'),\n",
       " ('22-05-2012',\n",
       "  '07:44:00',\n",
       "  'F9 v1.0  B0005',\n",
       "  'CCAFS LC-40',\n",
       "  'Dragon demo flight C2',\n",
       "  525,\n",
       "  'LEO (ISS)',\n",
       "  'NASA (COTS)',\n",
       "  'Success',\n",
       "  'No attempt'),\n",
       " ('08-10-2012',\n",
       "  '00:35:00',\n",
       "  'F9 v1.0  B0006',\n",
       "  'CCAFS LC-40',\n",
       "  'SpaceX CRS-1',\n",
       "  500,\n",
       "  'LEO (ISS)',\n",
       "  'NASA (CRS)',\n",
       "  'Success',\n",
       "  'No attempt'),\n",
       " ('01-03-2013',\n",
       "  '15:10:00',\n",
       "  'F9 v1.0  B0007',\n",
       "  'CCAFS LC-40',\n",
       "  'SpaceX CRS-2',\n",
       "  677,\n",
       "  'LEO (ISS)',\n",
       "  'NASA (CRS)',\n",
       "  'Success',\n",
       "  'No attempt'),\n",
       " ('03-12-2013',\n",
       "  '22:41:00',\n",
       "  'F9 v1.1',\n",
       "  'CCAFS LC-40',\n",
       "  'SES-8',\n",
       "  3170,\n",
       "  'GTO',\n",
       "  'SES',\n",
       "  'Success',\n",
       "  'No attempt'),\n",
       " ('06-01-2014',\n",
       "  '22:06:00',\n",
       "  'F9 v1.1',\n",
       "  'CCAFS LC-40',\n",
       "  'Thaicom 6',\n",
       "  3325,\n",
       "  'GTO',\n",
       "  'Thaicom',\n",
       "  'Success',\n",
       "  'No attempt'),\n",
       " ('18-04-2014',\n",
       "  '19:25:00',\n",
       "  'F9 v1.1',\n",
       "  'CCAFS LC-40',\n",
       "  'SpaceX CRS-3',\n",
       "  2296,\n",
       "  'LEO (ISS)',\n",
       "  'NASA (CRS)',\n",
       "  'Success',\n",
       "  'Controlled (ocean)'),\n",
       " ('14-07-2014',\n",
       "  '15:15:00',\n",
       "  'F9 v1.1',\n",
       "  'CCAFS LC-40',\n",
       "  'OG2 Mission 1  6 Orbcomm-OG2 satellites',\n",
       "  1316,\n",
       "  'LEO',\n",
       "  'Orbcomm',\n",
       "  'Success',\n",
       "  'Controlled (ocean)'),\n",
       " ('05-08-2014',\n",
       "  '08:00:00',\n",
       "  'F9 v1.1',\n",
       "  'CCAFS LC-40',\n",
       "  'AsiaSat 8',\n",
       "  4535,\n",
       "  'GTO',\n",
       "  'AsiaSat',\n",
       "  'Success',\n",
       "  'No attempt'),\n",
       " ('07-09-2014',\n",
       "  '05:00:00',\n",
       "  'F9 v1.1 B1011',\n",
       "  'CCAFS LC-40',\n",
       "  'AsiaSat 6',\n",
       "  4428,\n",
       "  'GTO',\n",
       "  'AsiaSat',\n",
       "  'Success',\n",
       "  'No attempt'),\n",
       " ('21-09-2014',\n",
       "  '05:52:00',\n",
       "  'F9 v1.1 B1010',\n",
       "  'CCAFS LC-40',\n",
       "  'SpaceX CRS-4',\n",
       "  2216,\n",
       "  'LEO (ISS)',\n",
       "  'NASA (CRS)',\n",
       "  'Success',\n",
       "  'Uncontrolled (ocean)'),\n",
       " ('10-01-2015',\n",
       "  '09:47:00',\n",
       "  'F9 v1.1 B1012',\n",
       "  'CCAFS LC-40',\n",
       "  'SpaceX CRS-5',\n",
       "  2395,\n",
       "  'LEO (ISS)',\n",
       "  'NASA (CRS)',\n",
       "  'Success',\n",
       "  'Failure (drone ship)'),\n",
       " ('11-02-2015',\n",
       "  '23:03:00',\n",
       "  'F9 v1.1 B1013',\n",
       "  'CCAFS LC-40',\n",
       "  'DSCOVR',\n",
       "  570,\n",
       "  'HEO',\n",
       "  'U.S. Air Force NASA NOAA',\n",
       "  'Success',\n",
       "  'Controlled (ocean)'),\n",
       " ('02-03-2015',\n",
       "  '03:50:00',\n",
       "  'F9 v1.1 B1014',\n",
       "  'CCAFS LC-40',\n",
       "  'ABS-3A Eutelsat 115 West B',\n",
       "  4159,\n",
       "  'GTO',\n",
       "  'ABS Eutelsat',\n",
       "  'Success',\n",
       "  'No attempt'),\n",
       " ('14-04-2015',\n",
       "  '20:10:00',\n",
       "  'F9 v1.1 B1015',\n",
       "  'CCAFS LC-40',\n",
       "  'SpaceX CRS-6',\n",
       "  1898,\n",
       "  'LEO (ISS)',\n",
       "  'NASA (CRS)',\n",
       "  'Success',\n",
       "  'Failure (drone ship)'),\n",
       " ('27-04-2015',\n",
       "  '23:03:00',\n",
       "  'F9 v1.1 B1016',\n",
       "  'CCAFS LC-40',\n",
       "  'Turkmen 52 / MonacoSAT',\n",
       "  4707,\n",
       "  'GTO',\n",
       "  'Turkmenistan National Space Agency',\n",
       "  'Success',\n",
       "  'No attempt'),\n",
       " ('28-06-2015',\n",
       "  '14:21:00',\n",
       "  'F9 v1.1 B1018',\n",
       "  'CCAFS LC-40',\n",
       "  'SpaceX CRS-7',\n",
       "  1952,\n",
       "  'LEO (ISS)',\n",
       "  'NASA (CRS)',\n",
       "  'Failure (in flight)',\n",
       "  'Precluded (drone ship)'),\n",
       " ('22-12-2015',\n",
       "  '01:29:00',\n",
       "  'F9 FT B1019',\n",
       "  'CCAFS LC-40',\n",
       "  'OG2 Mission 2  11 Orbcomm-OG2 satellites',\n",
       "  2034,\n",
       "  'LEO',\n",
       "  'Orbcomm',\n",
       "  'Success',\n",
       "  'Success (ground pad)'),\n",
       " ('04-03-2016',\n",
       "  '23:35:00',\n",
       "  'F9 FT B1020',\n",
       "  'CCAFS LC-40',\n",
       "  'SES-9',\n",
       "  5271,\n",
       "  'GTO',\n",
       "  'SES',\n",
       "  'Success',\n",
       "  'Failure (drone ship)'),\n",
       " ('08-04-2016',\n",
       "  '20:43:00',\n",
       "  'F9 FT B1021.1',\n",
       "  'CCAFS LC-40',\n",
       "  'SpaceX CRS-8',\n",
       "  3136,\n",
       "  'LEO (ISS)',\n",
       "  'NASA (CRS)',\n",
       "  'Success',\n",
       "  'Success (drone ship)'),\n",
       " ('06-05-2016',\n",
       "  '05:21:00',\n",
       "  'F9 FT B1022',\n",
       "  'CCAFS LC-40',\n",
       "  'JCSAT-14',\n",
       "  4696,\n",
       "  'GTO',\n",
       "  'SKY Perfect JSAT Group',\n",
       "  'Success',\n",
       "  'Success (drone ship)'),\n",
       " ('27-05-2016',\n",
       "  '21:39:00',\n",
       "  'F9 FT B1023.1',\n",
       "  'CCAFS LC-40',\n",
       "  'Thaicom 8',\n",
       "  3100,\n",
       "  'GTO',\n",
       "  'Thaicom',\n",
       "  'Success',\n",
       "  'Success (drone ship)'),\n",
       " ('15-06-2016',\n",
       "  '14:29:00',\n",
       "  'F9 FT B1024',\n",
       "  'CCAFS LC-40',\n",
       "  'ABS-2A Eutelsat 117 West B',\n",
       "  3600,\n",
       "  'GTO',\n",
       "  'ABS Eutelsat',\n",
       "  'Success',\n",
       "  'Failure (drone ship)'),\n",
       " ('18-07-2016',\n",
       "  '04:45:00',\n",
       "  'F9 FT B1025.1',\n",
       "  'CCAFS LC-40',\n",
       "  'SpaceX CRS-9',\n",
       "  2257,\n",
       "  'LEO (ISS)',\n",
       "  'NASA (CRS)',\n",
       "  'Success',\n",
       "  'Success (ground pad)'),\n",
       " ('14-08-2016',\n",
       "  '05:26:00',\n",
       "  'F9 FT B1026',\n",
       "  'CCAFS LC-40',\n",
       "  'JCSAT-16',\n",
       "  4600,\n",
       "  'GTO',\n",
       "  'SKY Perfect JSAT Group',\n",
       "  'Success',\n",
       "  'Success (drone ship)'),\n",
       " ('15-12-2017',\n",
       "  '15:36:00',\n",
       "  'F9 FT  B1035.2',\n",
       "  'CCAFS SLC-40',\n",
       "  'SpaceX CRS-13',\n",
       "  2205,\n",
       "  'LEO (ISS)',\n",
       "  'NASA (CRS)',\n",
       "  'Success',\n",
       "  'Success (ground pad)'),\n",
       " ('08-01-2018',\n",
       "  '01:00:00',\n",
       "  'F9 B4 B1043.1',\n",
       "  'CCAFS SLC-40',\n",
       "  'Zuma',\n",
       "  5000,\n",
       "  'LEO',\n",
       "  'Northrop Grumman',\n",
       "  'Success (payload status unclear)',\n",
       "  'Success (ground pad)'),\n",
       " ('31-01-2018',\n",
       "  '21:25:00',\n",
       "  'F9 FT  B1032.2',\n",
       "  'CCAFS SLC-40',\n",
       "  'GovSat-1 / SES-16',\n",
       "  4230,\n",
       "  'GTO',\n",
       "  'SES',\n",
       "  'Success',\n",
       "  'Controlled (ocean)'),\n",
       " ('06-03-2018',\n",
       "  '05:33:00',\n",
       "  'F9 B4 B1044',\n",
       "  'CCAFS SLC-40',\n",
       "  'Hispasat 30W-6  PODSat',\n",
       "  6092,\n",
       "  'GTO',\n",
       "  'Hispasat  NovaWurks',\n",
       "  'Success',\n",
       "  'No attempt'),\n",
       " ('02-04-2018',\n",
       "  '20:30:00',\n",
       "  'F9 B4  B1039.2',\n",
       "  'CCAFS SLC-40',\n",
       "  'SpaceX CRS-14',\n",
       "  2647,\n",
       "  'LEO (ISS)',\n",
       "  'NASA (CRS)',\n",
       "  'Success',\n",
       "  'No attempt'),\n",
       " ('18-04-2018',\n",
       "  '22:51:00',\n",
       "  'F9 B4 B1045.1',\n",
       "  'CCAFS SLC-40',\n",
       "  'Transiting Exoplanet Survey Satellite (TESS)',\n",
       "  362,\n",
       "  'HEO',\n",
       "  'NASA (LSP)',\n",
       "  'Success',\n",
       "  'Success (drone ship)'),\n",
       " ('04-06-2018',\n",
       "  '04:45:00',\n",
       "  'F9 B4  B1040.2',\n",
       "  'CCAFS SLC-40',\n",
       "  'SES-12',\n",
       "  5384,\n",
       "  'GTO',\n",
       "  'SES',\n",
       "  'Success',\n",
       "  'No attempt'),\n",
       " ('29-06-2018',\n",
       "  '09:42:00',\n",
       "  'F9 B4 B1045.2',\n",
       "  'CCAFS SLC-40',\n",
       "  'SpaceX CRS-15',\n",
       "  2697,\n",
       "  'LEO (ISS)',\n",
       "  'NASA (CRS)',\n",
       "  'Success',\n",
       "  'No attempt'),\n",
       " ('22-07-2018',\n",
       "  '05:50:00',\n",
       "  'F9 B5B1047.1',\n",
       "  'CCAFS SLC-40',\n",
       "  'Telstar 19V',\n",
       "  7075,\n",
       "  'GTO',\n",
       "  'Telesat',\n",
       "  'Success',\n",
       "  'Success'),\n",
       " ('07-08-2018',\n",
       "  '05:18:00',\n",
       "  'F9 B5 B1046.2',\n",
       "  'CCAFS SLC-40',\n",
       "  'Merah Putih ',\n",
       "  5800,\n",
       "  'GTO',\n",
       "  'Telkom Indonesia',\n",
       "  'Success',\n",
       "  'Success'),\n",
       " ('10-09-2018',\n",
       "  '04:45:00',\n",
       "  'F9 B5B1049.1',\n",
       "  'CCAFS SLC-40',\n",
       "  'Telstar 18V / Apstar-5C',\n",
       "  7060,\n",
       "  'GTO',\n",
       "  'Telesat',\n",
       "  'Success',\n",
       "  'Success'),\n",
       " ('05-12-2018',\n",
       "  '18:16:00',\n",
       "  'F9 B5B1050',\n",
       "  'CCAFS SLC-40',\n",
       "  'SpaceX CRS-16',\n",
       "  2500,\n",
       "  'LEO (ISS)',\n",
       "  'NASA (CRS)',\n",
       "  'Success',\n",
       "  'Failure'),\n",
       " ('23-12-2018',\n",
       "  '13:51:00',\n",
       "  'F9 B5B1054',\n",
       "  'CCAFS SLC-40',\n",
       "  'GPS III-01 ',\n",
       "  4400,\n",
       "  'MEO',\n",
       "  'USAF',\n",
       "  'Success ',\n",
       "  'No attempt'),\n",
       " ('22-02-2019',\n",
       "  '01:45:00',\n",
       "  'F9 B5 B1048.3',\n",
       "  'CCAFS SLC-40',\n",
       "  'Nusantara Satu, Beresheet Moon lander, S5',\n",
       "  4850,\n",
       "  'GTO',\n",
       "  'PSN, SpaceIL / IAI',\n",
       "  'Success',\n",
       "  'Success'),\n",
       " ('04-05-2019',\n",
       "  '06:48:00',\n",
       "  'F9 B5B1056.1 ',\n",
       "  'CCAFS SLC-40',\n",
       "  'SpaceX CRS-17, Starlink v0.9',\n",
       "  2495,\n",
       "  'LEO (ISS)',\n",
       "  'NASA (CRS)',\n",
       "  'Success',\n",
       "  'Success'),\n",
       " ('24-05-2019',\n",
       "  '02:30:00',\n",
       "  'F9 B5 B1049.3',\n",
       "  'CCAFS SLC-40',\n",
       "  'Starlink v0.9, RADARSAT Constellation',\n",
       "  13620,\n",
       "  'LEO',\n",
       "  'SpaceX',\n",
       "  'Success',\n",
       "  'Success'),\n",
       " ('25-07-2019',\n",
       "  '22:01:00',\n",
       "  'F9 B5 B1056.2 ',\n",
       "  'CCAFS SLC-40',\n",
       "  'SpaceX CRS-18, AMOS-17 ',\n",
       "  2268,\n",
       "  'LEO (ISS)',\n",
       "  'NASA (CRS)',\n",
       "  'Success',\n",
       "  'Success'),\n",
       " ('06-08-2019',\n",
       "  '23:23:00',\n",
       "  'F9 B5 B1047.3 ',\n",
       "  'CCAFS SLC-40',\n",
       "  'AMOS-17, Starlink 1 v1.0 ',\n",
       "  6500,\n",
       "  'GTO',\n",
       "  'Spacecom',\n",
       "  'Success',\n",
       "  'No attempt '),\n",
       " ('11-11-2019',\n",
       "  '14:56:00',\n",
       "  'F9 B5 B1048.4',\n",
       "  'CCAFS SLC-40',\n",
       "  'Starlink 1 v1.0, SpaceX CRS-19 ',\n",
       "  15600,\n",
       "  'LEO',\n",
       "  'SpaceX',\n",
       "  'Success',\n",
       "  'Success'),\n",
       " ('05-12-2019',\n",
       "  '17:29:00',\n",
       "  'F9 B5B1059.1',\n",
       "  'CCAFS SLC-40',\n",
       "  'SpaceX CRS-19, JCSat-18 / Kacific 1 ',\n",
       "  2617,\n",
       "  'LEO (ISS)',\n",
       "  'NASA (CRS), Kacific 1',\n",
       "  'Success',\n",
       "  'Success'),\n",
       " ('17-12-2019',\n",
       "  '00:10:00',\n",
       "  'F9 B5 B1056.3 ',\n",
       "  'CCAFS SLC-40',\n",
       "  'JCSat-18 / Kacific 1, Starlink 2 v1.0 ',\n",
       "  6956,\n",
       "  'GTO',\n",
       "  'Sky Perfect JSAT, Kacific 1',\n",
       "  'Success',\n",
       "  'Success'),\n",
       " ('07-01-2020',\n",
       "  '02:33:00',\n",
       "  'F9 B5 B1049.4',\n",
       "  'CCAFS SLC-40',\n",
       "  'Starlink 2 v1.0, Crew Dragon in-flight abort test ',\n",
       "  15600,\n",
       "  'LEO',\n",
       "  'SpaceX',\n",
       "  'Success',\n",
       "  'Success'),\n",
       " ('29-01-2020',\n",
       "  '14:07:00',\n",
       "  'F9 B5 B1051.3',\n",
       "  'CCAFS SLC-40',\n",
       "  'Starlink 3 v1.0, Starlink 4 v1.0 ',\n",
       "  15600,\n",
       "  'LEO',\n",
       "  'SpaceX',\n",
       "  'Success',\n",
       "  'Success'),\n",
       " ('17-02-2020',\n",
       "  '15:05:00',\n",
       "  'F9 B5 B1056.4',\n",
       "  'CCAFS SLC-40',\n",
       "  'Starlink 4 v1.0, SpaceX CRS-20',\n",
       "  15600,\n",
       "  'LEO',\n",
       "  'SpaceX',\n",
       "  'Success',\n",
       "  'Failure'),\n",
       " ('07-03-2020',\n",
       "  '04:50:00',\n",
       "  'F9 B5 B1059.2',\n",
       "  'CCAFS SLC-40',\n",
       "  'SpaceX CRS-20, Starlink 5 v1.0 ',\n",
       "  1977,\n",
       "  'LEO (ISS)',\n",
       "  'NASA (CRS)',\n",
       "  'Success',\n",
       "  'Success'),\n",
       " ('04-06-2020',\n",
       "  '01:25:00',\n",
       "  'F9 B5 B1049.5',\n",
       "  'CCAFS SLC-40',\n",
       "  'Starlink 7 v1.0, Starlink 8 v1.0',\n",
       "  15600,\n",
       "  'LEO',\n",
       "  'SpaceX, Planet Labs',\n",
       "  'Success',\n",
       "  'Success'),\n",
       " ('13-06-2020',\n",
       "  '09:21:00',\n",
       "  'F9 B5 B1059.3',\n",
       "  'CCAFS SLC-40',\n",
       "  'Starlink 8 v1.0, SkySats-16, -17, -18, GPS III-03 ',\n",
       "  15410,\n",
       "  'LEO',\n",
       "  'SpaceX, Planet Labs',\n",
       "  'Success',\n",
       "  'Success'),\n",
       " ('30-06-2020',\n",
       "  '20:10:46',\n",
       "  'F9 B5B1060.1',\n",
       "  'CCAFS SLC-40',\n",
       "  'GPS III-03, ANASIS-II',\n",
       "  4311,\n",
       "  'MEO',\n",
       "  'U.S. Space Force',\n",
       "  'Success',\n",
       "  'Success'),\n",
       " ('20-07-2020',\n",
       "  '21:30:00',\n",
       "  'F9 B5 B1058.2 ',\n",
       "  'CCAFS SLC-40',\n",
       "  'ANASIS-II, Starlink 9 v1.0',\n",
       "  5500,\n",
       "  'GTO',\n",
       "  'Republic of Korea Army, Spaceflight Industries (BlackSky)',\n",
       "  'Success',\n",
       "  'Success'),\n",
       " ('18-08-2020',\n",
       "  '14:31:00',\n",
       "  'F9 B5 B1049.6',\n",
       "  'CCAFS SLC-40',\n",
       "  'Starlink 10 v1.0, SkySat-19, -20, -21, SAOCOM 1B ',\n",
       "  15440,\n",
       "  'LEO',\n",
       "  'SpaceX, Planet Labs, PlanetIQ',\n",
       "  'Success',\n",
       "  'Success'),\n",
       " ('30-08-2020',\n",
       "  '23:18:00',\n",
       "  'F9 B5 B1059.4',\n",
       "  'CCAFS SLC-40',\n",
       "  'SAOCOM 1B, GNOMES 1, Tyvak-0172',\n",
       "  3130,\n",
       "  'SSO',\n",
       "  'CONAE, PlanetIQ, SpaceX',\n",
       "  'Success',\n",
       "  'Success'),\n",
       " ('24-10-2020',\n",
       "  '15:31:34',\n",
       "  'F9 B5 B1060.3',\n",
       "  'CCAFS SLC-40',\n",
       "  'Starlink 14 v1.0, GPS III-04  ',\n",
       "  15600,\n",
       "  'LEO',\n",
       "  'SpaceX',\n",
       "  'Success',\n",
       "  'Success'),\n",
       " ('05-11-2020',\n",
       "  '23:24:23',\n",
       "  'F9 B5B1062.1',\n",
       "  'CCAFS SLC-40',\n",
       "  'GPS III-04 , Crew-1',\n",
       "  4311,\n",
       "  'MEO',\n",
       "  'USSF',\n",
       "  'Success',\n",
       "  'Success'),\n",
       " ('25-11-2020',\n",
       "  '02:13:00',\n",
       "  'F9 B5 B1049.7 ',\n",
       "  'CCAFS SLC-40',\n",
       "  'Starlink 15 v1.0, SpaceX CRS-21',\n",
       "  15600,\n",
       "  'LEO',\n",
       "  'SpaceX',\n",
       "  'Success',\n",
       "  'Success')]"
      ]
     },
     "execution_count": 9,
     "metadata": {},
     "output_type": "execute_result"
    }
   ],
   "source": [
    "cur.execute(\"SELECT * FROM SPACEXTBL WHERE Launch_Site LIKE 'CCA%'\")\n",
    "cur.fetchall()"
   ]
  },
  {
   "cell_type": "markdown",
   "metadata": {},
   "source": [
    "### Task 3\n",
    "\n",
    "##### Display the total payload mass carried by boosters launched by NASA (CRS)\n"
   ]
  },
  {
   "cell_type": "code",
   "execution_count": 10,
   "metadata": {},
   "outputs": [
    {
     "data": {
      "text/plain": [
       "[(45596,)]"
      ]
     },
     "execution_count": 10,
     "metadata": {},
     "output_type": "execute_result"
    }
   ],
   "source": [
    "cur.execute('SELECT SUM(PAYLOAD_MASS__KG_) FROM SPACEXTBL WHERE Customer=\"NASA (CRS)\"')\n",
    "cur.fetchall()"
   ]
  },
  {
   "cell_type": "markdown",
   "metadata": {},
   "source": [
    "### Task 4\n",
    "\n",
    "##### Display average payload mass carried by booster version F9 v1.1\n"
   ]
  },
  {
   "cell_type": "code",
   "execution_count": 11,
   "metadata": {},
   "outputs": [
    {
     "data": {
      "text/plain": [
       "[(2928.4,)]"
      ]
     },
     "execution_count": 11,
     "metadata": {},
     "output_type": "execute_result"
    }
   ],
   "source": [
    "cur.execute('SELECT AVG(PAYLOAD_MASS__KG_) FROM SPACEXTBL WHERE Booster_Version=\"F9 v1.1\"')\n",
    "cur.fetchall()"
   ]
  },
  {
   "cell_type": "markdown",
   "metadata": {},
   "source": [
    "### Task 5\n",
    "\n",
    "##### List the date when the first succesful landing outcome in ground pad was acheived.\n",
    "\n",
    "*Hint:Use min function*\n"
   ]
  },
  {
   "cell_type": "code",
   "execution_count": 12,
   "metadata": {},
   "outputs": [
    {
     "data": {
      "text/plain": [
       "[('01-03-2013',)]"
      ]
     },
     "execution_count": 12,
     "metadata": {},
     "output_type": "execute_result"
    }
   ],
   "source": [
    "cur.execute('SELECT min(Date) FROM SPACEXTBL WHERE Mission_Outcome=\"Success\"')\n",
    "cur.fetchall()"
   ]
  },
  {
   "cell_type": "markdown",
   "metadata": {},
   "source": [
    "### Task 6\n",
    "\n",
    "##### List the names of the boosters which have success in drone ship and have payload mass greater than 4000 but less than 6000\n"
   ]
  },
  {
   "cell_type": "code",
   "execution_count": 20,
   "metadata": {},
   "outputs": [
    {
     "data": {
      "text/plain": [
       "[('F9 FT B1022',), ('F9 FT B1026',), ('F9 FT  B1021.2',), ('F9 FT  B1031.2',)]"
      ]
     },
     "execution_count": 20,
     "metadata": {},
     "output_type": "execute_result"
    }
   ],
   "source": [
    "cur.execute('SELECT DISTINCT Booster_Version FROM SPACEXTBL WHERE \"Landing _Outcome\"=\"Success (drone ship)\" AND PAYLOAD_MASS__KG_ BETWEEN 4000 AND 6000')\n",
    "cur.fetchall()"
   ]
  },
  {
   "cell_type": "markdown",
   "metadata": {},
   "source": [
    "### Task 7\n",
    "\n",
    "##### List the total number of successful and failure mission outcomes\n"
   ]
  },
  {
   "cell_type": "code",
   "execution_count": 15,
   "metadata": {},
   "outputs": [
    {
     "data": {
      "text/plain": [
       "[('Failure (in flight)', 1),\n",
       " ('Success', 98),\n",
       " ('Success ', 1),\n",
       " ('Success (payload status unclear)', 1)]"
      ]
     },
     "execution_count": 15,
     "metadata": {},
     "output_type": "execute_result"
    }
   ],
   "source": [
    "cur.execute('SELECT Mission_Outcome, count(*) FROM SPACEXTBL GROUP BY Mission_Outcome')\n",
    "cur.fetchall()"
   ]
  },
  {
   "cell_type": "markdown",
   "metadata": {},
   "source": [
    "### Task 8\n",
    "\n",
    "##### List the   names of the booster_versions which have carried the maximum payload mass. Use a subquery\n"
   ]
  },
  {
   "cell_type": "code",
   "execution_count": 18,
   "metadata": {},
   "outputs": [
    {
     "data": {
      "text/plain": [
       "[('F9 B5 B1048.4',),\n",
       " ('F9 B5 B1049.4',),\n",
       " ('F9 B5 B1051.3',),\n",
       " ('F9 B5 B1056.4',),\n",
       " ('F9 B5 B1048.5',),\n",
       " ('F9 B5 B1051.4',),\n",
       " ('F9 B5 B1049.5',),\n",
       " ('F9 B5 B1060.2 ',),\n",
       " ('F9 B5 B1058.3 ',),\n",
       " ('F9 B5 B1051.6',),\n",
       " ('F9 B5 B1060.3',),\n",
       " ('F9 B5 B1049.7 ',)]"
      ]
     },
     "execution_count": 18,
     "metadata": {},
     "output_type": "execute_result"
    }
   ],
   "source": [
    "cur.execute('SELECT Booster_Version FROM SPACEXTBL WHERE PAYLOAD_MASS__KG_ IN (SELECT max(PAYLOAD_MASS__KG_) FROM SPACEXTBL)')\n",
    "cur.fetchall()"
   ]
  },
  {
   "cell_type": "markdown",
   "metadata": {},
   "source": [
    "### Task 9\n",
    "\n",
    "##### List the records which will display the month names, failure landing_outcomes in drone ship ,booster versions, launch_site for the months in year 2015.\n",
    "\n",
    "**Note: SQLLite does not support monthnames. So you need to use  substr(Date, 4, 2) as month to get the months and substr(Date,7,4)='2015' for year.**\n"
   ]
  },
  {
   "cell_type": "code",
   "execution_count": 21,
   "metadata": {},
   "outputs": [
    {
     "data": {
      "text/plain": [
       "[('01', 'Failure (drone ship)', 'F9 v1.1 B1012', 'CCAFS LC-40'),\n",
       " ('02', 'Controlled (ocean)', 'F9 v1.1 B1013', 'CCAFS LC-40'),\n",
       " ('03', 'No attempt', 'F9 v1.1 B1014', 'CCAFS LC-40'),\n",
       " ('04', 'Failure (drone ship)', 'F9 v1.1 B1015', 'CCAFS LC-40'),\n",
       " ('04', 'No attempt', 'F9 v1.1 B1016', 'CCAFS LC-40'),\n",
       " ('06', 'Precluded (drone ship)', 'F9 v1.1 B1018', 'CCAFS LC-40'),\n",
       " ('12', 'Success (ground pad)', 'F9 FT B1019', 'CCAFS LC-40')]"
      ]
     },
     "execution_count": 21,
     "metadata": {},
     "output_type": "execute_result"
    }
   ],
   "source": [
    "cur.execute('SELECT substr(Date, 4, 2), \"Landing _Outcome\", Booster_Version, \"Launch_Site\" FROM SPACEXTBL WHERE substr(Date, 7,4)=\"2015\"')\n",
    "cur.fetchall()"
   ]
  },
  {
   "cell_type": "markdown",
   "metadata": {},
   "source": [
    "### Task 10\n",
    "\n",
    "##### Rank the  count of  successful landing_outcomes between the date 04-06-2010 and 20-03-2017 in descending order.\n"
   ]
  },
  {
   "cell_type": "code",
   "execution_count": 23,
   "metadata": {},
   "outputs": [
    {
     "data": {
      "text/plain": [
       "[('Failure (parachute)', 57)]"
      ]
     },
     "execution_count": 23,
     "metadata": {},
     "output_type": "execute_result"
    }
   ],
   "source": [
    "cur.execute('SELECT \"Landing _Outcome\", count(*) FROM SPACEXTBL WHERE Date BETWEEN \"04-06-2010\" AND \"20-03-2017\" ORDER BY Date DESC')\n",
    "cur.fetchall()"
   ]
  },
  {
   "cell_type": "code",
   "execution_count": 25,
   "metadata": {},
   "outputs": [
    {
     "data": {
      "text/plain": [
       "[('CCAFS LC-40',), ('VAFB SLC-4E',), ('KSC LC-39A',), ('CCAFS SLC-40',)]"
      ]
     },
     "execution_count": 25,
     "metadata": {},
     "output_type": "execute_result"
    }
   ],
   "source": [
    "cur.execute('SELECT DISTINCT Launch_Site FROM SPACEXTBL')\n",
    "cur.fetchall()"
   ]
  },
  {
   "cell_type": "markdown",
   "metadata": {},
   "source": [
    "### Reference Links\n",
    "\n",
    "*   <a href =\"https://cf-courses-data.s3.us.cloud-object-storage.appdomain.cloud/IBMDeveloperSkillsNetwork-DB0201EN-SkillsNetwork/labs/Labs_Coursera_V5/labs/Lab%20-%20String%20Patterns%20-%20Sorting%20-%20Grouping/instructional-labs.md.html?utm_medium=Exinfluencer&utm_source=Exinfluencer&utm_content=000026UJ&utm_term=10006555&utm_id=NA-SkillsNetwork-Channel-SkillsNetworkCoursesIBMDS0321ENSkillsNetwork26802033-2022-01-01&origin=www.coursera.org\">Hands-on Lab : String Patterns, Sorting and Grouping</a>\n",
    "\n",
    "*   <a  href=\"https://cf-courses-data.s3.us.cloud-object-storage.appdomain.cloud/IBMDeveloperSkillsNetwork-DB0201EN-SkillsNetwork/labs/Labs_Coursera_V5/labs/Lab%20-%20Built-in%20functions%20/Hands-on_Lab__Built-in_Functions.md.html?utm_medium=Exinfluencer&utm_source=Exinfluencer&utm_content=000026UJ&utm_term=10006555&utm_id=NA-SkillsNetwork-Channel-SkillsNetworkCoursesIBMDS0321ENSkillsNetwork26802033-2022-01-01&origin=www.coursera.org\">Hands-on Lab: Built-in functions</a>\n",
    "\n",
    "*   <a  href=\"https://cf-courses-data.s3.us.cloud-object-storage.appdomain.cloud/IBMDeveloperSkillsNetwork-DB0201EN-SkillsNetwork/labs/Labs_Coursera_V5/labs/Lab%20-%20Sub-queries%20and%20Nested%20SELECTs%20/instructional-labs.md.html?utm_medium=Exinfluencer&utm_source=Exinfluencer&utm_content=000026UJ&utm_term=10006555&utm_id=NA-SkillsNetwork-Channel-SkillsNetworkCoursesIBMDS0321ENSkillsNetwork26802033-2022-01-01&origin=www.coursera.org\">Hands-on Lab : Sub-queries and Nested SELECT Statements</a>\n",
    "\n",
    "*   <a href=\"https://cf-courses-data.s3.us.cloud-object-storage.appdomain.cloud/IBMDeveloperSkillsNetwork-DB0201EN-SkillsNetwork/labs/Module%205/DB0201EN-Week3-1-3-SQLmagic.ipynb?utm_medium=Exinfluencer&utm_source=Exinfluencer&utm_content=000026UJ&utm_term=10006555&utm_id=NA-SkillsNetwork-Channel-SkillsNetworkCoursesIBMDS0321ENSkillsNetwork26802033-2022-01-01\">Hands-on Tutorial: Accessing Databases with SQL magic</a>\n",
    "\n",
    "*   <a href= \"https://cf-courses-data.s3.us.cloud-object-storage.appdomain.cloud/IBMDeveloperSkillsNetwork-DB0201EN-SkillsNetwork/labs/Module%205/DB0201EN-Week3-1-4-Analyzing.ipynb?utm_medium=Exinfluencer&utm_source=Exinfluencer&utm_content=000026UJ&utm_term=10006555&utm_id=NA-SkillsNetwork-Channel-SkillsNetworkCoursesIBMDS0321ENSkillsNetwork26802033-2022-01-01\">Hands-on Lab: Analyzing a real World Data Set</a>\n"
   ]
  },
  {
   "cell_type": "markdown",
   "metadata": {},
   "source": [
    "## Author(s)\n",
    "\n",
    "<h4> Lakshmi Holla </h4>\n"
   ]
  },
  {
   "cell_type": "markdown",
   "metadata": {},
   "source": [
    "## Other Contributors\n",
    "\n",
    "<h4> Rav Ahuja </h4>\n"
   ]
  },
  {
   "cell_type": "markdown",
   "metadata": {},
   "source": [
    "## Change log\n",
    "\n",
    "| Date       | Version | Changed by    | Change Description        |\n",
    "| ---------- | ------- | ------------- | ------------------------- |\n",
    "| 2021-07-09 | 0.2     | Lakshmi Holla | Changes made in magic sql |\n",
    "| 2021-05-20 | 0.1     | Lakshmi Holla | Created Initial Version   |\n"
   ]
  },
  {
   "cell_type": "markdown",
   "metadata": {},
   "source": [
    "## <h3 align=\"center\"> © IBM Corporation 2021. All rights reserved. <h3/>\n"
   ]
  }
 ],
 "metadata": {
  "kernelspec": {
   "display_name": "Python",
   "language": "python",
   "name": "conda-env-python-py"
  },
  "language_info": {
   "codemirror_mode": {
    "name": "ipython",
    "version": 3
   },
   "file_extension": ".py",
   "mimetype": "text/x-python",
   "name": "python",
   "nbconvert_exporter": "python",
   "pygments_lexer": "ipython3",
   "version": "3.7.12"
  }
 },
 "nbformat": 4,
 "nbformat_minor": 4
}
