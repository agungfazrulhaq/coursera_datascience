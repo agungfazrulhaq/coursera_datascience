{
 "cells": [
  {
   "cell_type": "markdown",
   "id": "1febfe5b-aab2-41d3-917b-7aaff197f522",
   "metadata": {},
   "source": [
    "<h1> My Jupyter Notebook on IBM Watson Studio </h1>"
   ]
  },
  {
   "cell_type": "markdown",
   "id": "e8627fbe-8284-439c-9cdf-34cd0706243a",
   "metadata": {},
   "source": [
    "__Muh. Agung Fazrulhaq__ <br>\n",
    "Data Scientist"
   ]
  },
  {
   "cell_type": "markdown",
   "id": "58e61db8-a308-4664-aef9-0bb493a45a49",
   "metadata": {},
   "source": [
    "_I have been interested in math and programming since i was in high school. Ever since, i really passionate about code and making algorithms and find the best solution in any given problems. After i learn more about statistics and deep learning I was so interested to become a data scientist, I really love working with data, find an insight, and conclusion and applied variants of algorithms to find the best solution._"
   ]
  },
  {
   "cell_type": "markdown",
   "id": "dbaebbf9-0538-4511-b1bd-8e163a6ebabd",
   "metadata": {},
   "source": [
    "<h3> The code below is to draw a n*n square with '*' character. </h3>"
   ]
  },
  {
   "cell_type": "code",
   "execution_count": 3,
   "id": "0af92e00-f8f1-433e-be18-3a7d5d17e090",
   "metadata": {},
   "outputs": [
    {
     "name": "stdout",
     "output_type": "stream",
     "text": [
      "* * * * \n",
      "*     * \n",
      "*     * \n",
      "* * * * \n"
     ]
    }
   ],
   "source": [
    "n=4\n",
    "\n",
    "for i in range(n) :\n",
    "    if i == 0 or i == n-1 :\n",
    "        for j in range(n) :\n",
    "            print('* ', end='')\n",
    "    else :\n",
    "        for j in range(n):\n",
    "            if j == 0 or j == n-1 :\n",
    "                print('* ', end='')\n",
    "            else :\n",
    "                print('  ', end='')\n",
    "    print('')        "
   ]
  },
  {
   "cell_type": "markdown",
   "id": "39bf0014-cf0d-4d1c-a288-963ed66d719f",
   "metadata": {},
   "source": [
    "The reason i wanted to become data scientist is because :\n",
    "***\n",
    "<ol>\n",
    "    <li> I passionate about data science </li>\n",
    "    <li> I love working with codes </li>\n",
    "    <li> <strike>The money</strike> </li>\n",
    "    \n",
    "</ol>"
   ]
  },
  {
   "cell_type": "code",
   "execution_count": null,
   "id": "8a63c776-0084-405b-ae93-c154dd5e56df",
   "metadata": {},
   "outputs": [],
   "source": []
  }
 ],
 "metadata": {
  "kernelspec": {
   "display_name": "Python",
   "language": "python",
   "name": "conda-env-python-py"
  },
  "language_info": {
   "codemirror_mode": {
    "name": "ipython",
    "version": 3
   },
   "file_extension": ".py",
   "mimetype": "text/x-python",
   "name": "python",
   "nbconvert_exporter": "python",
   "pygments_lexer": "ipython3",
   "version": "3.7.12"
  }
 },
 "nbformat": 4,
 "nbformat_minor": 5
}
